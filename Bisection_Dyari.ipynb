{
  "nbformat": 4,
  "nbformat_minor": 0,
  "metadata": {
    "colab": {
      "provenance": [],
      "authorship_tag": "ABX9TyPq9HBELIfYKtSZUMBC75QM",
      "include_colab_link": true
    },
    "kernelspec": {
      "name": "python3",
      "display_name": "Python 3"
    },
    "language_info": {
      "name": "python"
    }
  },
  "cells": [
    {
      "cell_type": "markdown",
      "metadata": {
        "id": "view-in-github",
        "colab_type": "text"
      },
      "source": [
        "<a href=\"https://colab.research.google.com/github/dyarikamal/bisection/blob/main/Bisection_Dyari.ipynb\" target=\"_parent\"><img src=\"https://colab.research.google.com/assets/colab-badge.svg\" alt=\"Open In Colab\"/></a>"
      ]
    },
    {
      "cell_type": "code",
      "execution_count": null,
      "metadata": {
        "colab": {
          "base_uri": "https://localhost:8080/"
        },
        "id": "W40k8v2kvPOm",
        "outputId": "0704ab70-1e4c-4600-f55b-bcf318e24400"
      },
      "outputs": [
        {
          "output_type": "stream",
          "name": "stdout",
          "text": [
            "The root of the function is approximately: 1.8793859481811523\n",
            "Number of iterations: 21\n"
          ]
        }
      ],
      "source": [
        "def function_to_solve(x):\n",
        "    return x**3 - 3*x - 1\n",
        "\n",
        "def bisection_method(a, b, tol=1e-6, max_iter=100):\n",
        "    if function_to_solve(a) * function_to_solve(b) > 0:\n",
        "        raise ValueError(\"The function values at the interval endpoints must have opposite signs.\")\n",
        "\n",
        "    iter_count = 0\n",
        "    while (b - a) / 2 > tol and iter_count < max_iter:\n",
        "        c = (a + b) / 2\n",
        "        if function_to_solve(c) == 0:\n",
        "            break\n",
        "        elif function_to_solve(c) * function_to_solve(a) < 0:\n",
        "            b = c\n",
        "        else:\n",
        "            a = c\n",
        "        iter_count += 1\n",
        "\n",
        "    return (a + b) / 2, iter_count\n",
        "\n",
        "# Set the initial interval [a, b]\n",
        "a = -2\n",
        "b = 2\n",
        "\n",
        "# Call the bisection method function\n",
        "root, iterations = bisection_method(a, b)\n",
        "\n",
        "# Print the result\n",
        "print(f\"The root of the function is approximately: {root}\")\n",
        "print(f\"Number of iterations: {iterations}\")\n"
      ]
    }
  ]
}